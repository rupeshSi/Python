{
 "cells": [
  {
   "cell_type": "markdown",
   "metadata": {},
   "source": [
    "## Creating a Function"
   ]
  },
  {
   "cell_type": "code",
   "execution_count": 6,
   "metadata": {},
   "outputs": [],
   "source": [
    "def goodMor():\n",
    "    na=input('Enter Your name :')\n",
    "    print(\"Good Morning! \", na)\n",
    "    print(\"How are you doing?\")\n",
    "    "
   ]
  },
  {
   "cell_type": "code",
   "execution_count": 2,
   "metadata": {},
   "outputs": [],
   "source": [
    "def goodAf():\n",
    "    print(\"Good Afternoon!\")"
   ]
  },
  {
   "cell_type": "code",
   "execution_count": 3,
   "metadata": {},
   "outputs": [],
   "source": [
    "def goodBye():\n",
    "    print(\"Good Bye! See you again!\")"
   ]
  },
  {
   "cell_type": "code",
   "execution_count": 7,
   "metadata": {},
   "outputs": [
    {
     "name": "stdout",
     "output_type": "stream",
     "text": [
      "Enter Your name :Rupesh Kumar Sinha\n",
      "Good Morning!  Rupesh Kumar Sinha\n",
      "How are you doing?\n"
     ]
    }
   ],
   "source": [
    "goodMor()"
   ]
  },
  {
   "cell_type": "code",
   "execution_count": 5,
   "metadata": {},
   "outputs": [
    {
     "name": "stdout",
     "output_type": "stream",
     "text": [
      "Good Afternoon!\n"
     ]
    }
   ],
   "source": [
    "goodAf()"
   ]
  },
  {
   "cell_type": "code",
   "execution_count": 8,
   "metadata": {
    "collapsed": true
   },
   "outputs": [
    {
     "name": "stdout",
     "output_type": "stream",
     "text": [
      "The attributes of now() are : \n",
      "Year : 2020\n",
      "Month : 10\n",
      "Day : 21\n",
      "Hour : 9\n",
      "Minute : 30\n",
      "Second : 46\n",
      "Microsecond : 273308\n"
     ]
    }
   ],
   "source": [
    "#Based on current time, the system should be able to greet!\n",
    "\n",
    "# importing datetime module for now()  \n",
    "import datetime  \n",
    "    \n",
    "# using now() to get current time  \n",
    "ct = datetime.datetime.now()  \n",
    "    \n",
    "# Printing attributes of now().  \n",
    "print (\"The attributes of now() are : \")  \n",
    "    \n",
    "print (\"Year : \", end = \"\")  \n",
    "print (ct.year)  \n",
    "    \n",
    "print (\"Month : \", end = \"\")  \n",
    "print (ct.month)  \n",
    "    \n",
    "print (\"Day : \", end = \"\")  \n",
    "print (ct.day)  \n",
    "print (\"Hour : \", end = \"\")  \n",
    "print (ct.hour)  \n",
    "    \n",
    "print (\"Minute : \", end = \"\")  \n",
    "print (ct.minute)  \n",
    "    \n",
    "print (\"Second : \", end = \"\")  \n",
    "print (ct.second)  \n",
    "    \n",
    "print (\"Microsecond : \", end = \"\")  \n",
    "print (ct.microsecond)  "
   ]
  },
  {
   "cell_type": "code",
   "execution_count": 10,
   "metadata": {},
   "outputs": [
    {
     "name": "stdout",
     "output_type": "stream",
     "text": [
      "Enter Your name :Rupesh\n",
      "Good Morning!  Rupesh\n",
      "How are you doing?\n"
     ]
    }
   ],
   "source": [
    "#Now store hour from time in a variable for comparision\n",
    "\n",
    "hr=ct.hour\n",
    "if hr<12:\n",
    "    goodMor()\n",
    "else:\n",
    "    goodAf()"
   ]
  },
  {
   "cell_type": "markdown",
   "metadata": {},
   "source": [
    "## Passing Information to a Function\n",
    "A function definition can have multiple parameters, a function call may need multiple arguments. Arguments to the functions can be passed in different ways.\n",
    "\n",
    "positional arguments, which need to be in the same order the parameters were written\n",
    "keyword arguments, where each argument consists of a variable name and a value; and lists and dictionaries of values.\n",
    "1. positional arguments, which need to be in the same order the parameters were written\n",
    "2. keyword arguments, where each argument consists of a variable name and a value; and lists and dictionaries of values. "
   ]
  },
  {
   "cell_type": "markdown",
   "metadata": {},
   "source": [
    "## 1. Positional Arguments"
   ]
  },
  {
   "cell_type": "code",
   "execution_count": 13,
   "metadata": {},
   "outputs": [],
   "source": [
    "\n",
    "#Here the order of the values passed to the function is very important.\n",
    "def dispProd(pName,price):\n",
    "    print(\"The Product is: \",pName)\n",
    "    print(\"The Price of the product \", pName,\" is \", price)\n",
    "    "
   ]
  },
  {
   "cell_type": "code",
   "execution_count": 14,
   "metadata": {},
   "outputs": [
    {
     "name": "stdout",
     "output_type": "stream",
     "text": [
      "The Product is:  Chair\n",
      "The Price of the product  Chair  is  6500\n"
     ]
    }
   ],
   "source": [
    "dispProd(\"Chair\", 6500)"
   ]
  },
  {
   "cell_type": "code",
   "execution_count": 15,
   "metadata": {},
   "outputs": [
    {
     "name": "stdout",
     "output_type": "stream",
     "text": [
      "The Product is:  Table\n",
      "The Price of the product  Table  is  12500\n"
     ]
    }
   ],
   "source": [
    "dispProd(\"Table\",12500)"
   ]
  },
  {
   "cell_type": "code",
   "execution_count": 16,
   "metadata": {},
   "outputs": [
    {
     "name": "stdout",
     "output_type": "stream",
     "text": [
      "The Product is:  12450\n",
      "The Price of the product  12450  is  Table\n"
     ]
    }
   ],
   "source": [
    "dispProd(12450, \"Table\")"
   ]
  },
  {
   "cell_type": "markdown",
   "metadata": {},
   "source": [
    "## 2. keyword arguments"
   ]
  },
  {
   "cell_type": "code",
   "execution_count": 18,
   "metadata": {},
   "outputs": [
    {
     "name": "stdout",
     "output_type": "stream",
     "text": [
      "The Product is:  Computer\n",
      "The Price of the product  Computer  is  35000\n"
     ]
    }
   ],
   "source": [
    "dispProd(pName=\"Computer\",price=35000)"
   ]
  },
  {
   "cell_type": "code",
   "execution_count": 19,
   "metadata": {},
   "outputs": [
    {
     "name": "stdout",
     "output_type": "stream",
     "text": [
      "The Product is:  Computer\n",
      "The Price of the product  Computer  is  35000\n"
     ]
    }
   ],
   "source": [
    "dispProd(price=35000, pName=\"Computer\")"
   ]
  },
  {
   "cell_type": "markdown",
   "metadata": {},
   "source": [
    "## Creating Default value for a function"
   ]
  },
  {
   "cell_type": "code",
   "execution_count": 23,
   "metadata": {},
   "outputs": [],
   "source": [
    "\n",
    "def dispProd_(pName,price,pCatg='Furniture'):\n",
    "    print(\"The Category of the product is :\", pCatg)\n",
    "    print(\"The Product is: \",pName)\n",
    "    print(\"The Price of the product \", pName,\" is \", price)"
   ]
  },
  {
   "cell_type": "code",
   "execution_count": 25,
   "metadata": {},
   "outputs": [
    {
     "name": "stdout",
     "output_type": "stream",
     "text": [
      "The Category of the product is : Furniture\n",
      "The Product is:  Book Shelf\n",
      "The Price of the product  Book Shelf  is  24000\n"
     ]
    }
   ],
   "source": [
    "dispProd_('Book Shelf',24000)"
   ]
  },
  {
   "cell_type": "code",
   "execution_count": 26,
   "metadata": {},
   "outputs": [
    {
     "name": "stdout",
     "output_type": "stream",
     "text": [
      "The Category of the product is : Furniture\n",
      "The Product is:  Book Shelf\n",
      "The Price of the product  Book Shelf  is  24000\n"
     ]
    }
   ],
   "source": [
    "dispProd_('Book Shelf',24000,)"
   ]
  },
  {
   "cell_type": "code",
   "execution_count": 27,
   "metadata": {},
   "outputs": [
    {
     "name": "stdout",
     "output_type": "stream",
     "text": [
      "The Category of the product is : Plastic Furniture\n",
      "The Product is:  Book Shelf\n",
      "The Price of the product  Book Shelf  is  24000\n"
     ]
    }
   ],
   "source": [
    "dispProd_('Book Shelf',24000,\"Plastic Furniture\")"
   ]
  },
  {
   "cell_type": "markdown",
   "metadata": {},
   "source": [
    "dispProd_('Book Shelf',24000,)"
   ]
  },
  {
   "cell_type": "markdown",
   "metadata": {},
   "source": [
    "Create Function to \n",
    "1. Display sum upto n\n",
    "2. Print series upto n in reverse order\n",
    "3. Accept a name and\n",
    "    a. Print Title case\n",
    "    b. Print Upper Case\n",
    "    c. Print lower case\n",
    "    \n",
    "   \n",
    "  Create a Menu to select the options to run the function and q to quit the program.\n"
   ]
  }
 ],
 "metadata": {
  "kernelspec": {
   "display_name": "Python 3",
   "language": "python",
   "name": "python3"
  },
  "language_info": {
   "codemirror_mode": {
    "name": "ipython",
    "version": 3
   },
   "file_extension": ".py",
   "mimetype": "text/x-python",
   "name": "python",
   "nbconvert_exporter": "python",
   "pygments_lexer": "ipython3",
   "version": "3.7.6"
  }
 },
 "nbformat": 4,
 "nbformat_minor": 4
}
