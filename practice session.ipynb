{
 "cells": [
  {
   "cell_type": "markdown",
   "metadata": {},
   "source": [
    "## Practice Session\n",
    "1. Given a list of numbers, Iterate it and print only those numbers which are divisible of 5\n"
   ]
  },
  {
   "cell_type": "code",
   "execution_count": 1,
   "metadata": {},
   "outputs": [],
   "source": [
    "#Code for 1 Here"
   ]
  },
  {
   "cell_type": "markdown",
   "metadata": {},
   "source": [
    "2. Given a string, display only those characters which are present at an even index number."
   ]
  },
  {
   "cell_type": "code",
   "execution_count": null,
   "metadata": {},
   "outputs": [],
   "source": [
    "#Code Here for 2"
   ]
  },
  {
   "cell_type": "code",
   "execution_count": null,
   "metadata": {},
   "outputs": [],
   "source": [
    "3. Print the following pattern\n",
    "\n",
    "1 \n",
    "2 2\n",
    "3 3 3\n",
    "4 4 4 4\n",
    "5 5 5 5 5\n",
    "6 6 6 6 6 6 \n",
    "\n",
    "upto ....n\n"
   ]
  },
  {
   "cell_type": "code",
   "execution_count": null,
   "metadata": {},
   "outputs": [],
   "source": [
    "4. Accept number from user and calculate the sum of all number between 1 and given number\n",
    "\n",
    "5. Accept a number, n from the user and display its table in follwoing format : \n",
    "\n",
    "12 X 1 = 12\n",
    "12 X 2 =24\n",
    "....\n",
    "12 X 10=240\n",
    "\n",
    "6. Given a two list. Create a third list by picking an odd-index element from the\n",
    "first list and even index elements from second.\n",
    "\n",
    "7. Given an input list removes the element at index 6 and add it to the 3rd position \n",
    "and also, at the end of the list.\n",
    "\n",
    "8. Initialize dictionary with default values.\n",
    "9. Delete set of keys from Python Dictionary\n"
   ]
  }
 ],
 "metadata": {
  "kernelspec": {
   "display_name": "Python 3",
   "language": "python",
   "name": "python3"
  },
  "language_info": {
   "codemirror_mode": {
    "name": "ipython",
    "version": 3
   },
   "file_extension": ".py",
   "mimetype": "text/x-python",
   "name": "python",
   "nbconvert_exporter": "python",
   "pygments_lexer": "ipython3",
   "version": "3.7.6"
  }
 },
 "nbformat": 4,
 "nbformat_minor": 4
}
