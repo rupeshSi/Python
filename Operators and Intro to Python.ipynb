{
 "cells": [
  {
   "cell_type": "markdown",
   "metadata": {},
   "source": [
    "# Operators\n",
    "\n",
    "<div><font size=2 color=green>Assignment Operator</font></div>"
   ]
  },
  {
   "cell_type": "code",
   "execution_count": 5,
   "metadata": {},
   "outputs": [
    {
     "name": "stdout",
     "output_type": "stream",
     "text": [
      "The value of i is 20\n",
      "The value of i is now 50\n",
      "The value of y is now 40\n",
      "Value of z is 30\n",
      "The value of m is  5.0\n"
     ]
    }
   ],
   "source": [
    "#  +=   -=  *=  /=  are different assignment operators\n",
    "\n",
    "i=20\n",
    "print(\"The value of i is\", i)\n",
    "\n",
    "i+=30\n",
    "print(\"The value of i is now\", i)\n",
    "\n",
    "y=10\n",
    "\n",
    "y*=4\n",
    "\n",
    "print(\"The value of y is now\", y)\n",
    "\n",
    "z=5\n",
    "z*=6\n",
    "print(\"Value of z is\",z)\n",
    "\n",
    "m=10\n",
    "m/=2\n",
    "print(\"The value of m is \",m)"
   ]
  },
  {
   "cell_type": "code",
   "execution_count": 13,
   "metadata": {},
   "outputs": [
    {
     "name": "stdout",
     "output_type": "stream",
     "text": [
      "3\n",
      "16\n",
      "2\n"
     ]
    }
   ],
   "source": [
    "#Use of ** and use of //\n",
    "#   ** is used for giving power of a to b, like 2 to power 4 is 2**4\n",
    "#   // divisior will be displayed without decimal \n",
    "#   % modulo operator\n",
    "\n",
    "i=10\n",
    "j=3\n",
    "\n",
    "print(i//j)\n",
    "\n",
    "print(2**4)\n",
    "\n",
    "print(10%8)"
   ]
  },
  {
   "cell_type": "code",
   "execution_count": 18,
   "metadata": {},
   "outputs": [
    {
     "name": "stdout",
     "output_type": "stream",
     "text": [
      "Enter number 1:10\n",
      "Enter number 2:1000\n",
      "Enter number 3:3\n",
      "The largest number is  1000\n"
     ]
    }
   ],
   "source": [
    "# Find the largest number from the 3 numbers, which are given by users\n",
    "n1=int(input(\"Enter number 1:\"))\n",
    "n2=int(input(\"Enter number 2:\"))\n",
    "n3=int(input(\"Enter number 3:\"))\n",
    "l=0\n",
    "\n",
    "if(n1>n2):\n",
    "    l=n1\n",
    "else:\n",
    "    l=n2\n",
    "    \n",
    "if(l>n3):\n",
    "    print(\"The largest number is \",l)\n",
    "else:\n",
    "    print(\"The largest number is \",n3)"
   ]
  },
  {
   "cell_type": "code",
   "execution_count": 26,
   "metadata": {},
   "outputs": [
    {
     "name": "stdout",
     "output_type": "stream",
     "text": [
      "0\n",
      "1\n",
      "2\n",
      "3\n"
     ]
    }
   ],
   "source": [
    "#Use of For Loop\n",
    "\n",
    "for i in range(4):\n",
    "    print(i)"
   ]
  },
  {
   "cell_type": "code",
   "execution_count": 31,
   "metadata": {},
   "outputs": [
    {
     "name": "stdout",
     "output_type": "stream",
     "text": [
      "Enter a number:45\n",
      "45  X  1  =  45\n",
      "45  X  2  =  90\n",
      "45  X  3  =  135\n",
      "45  X  4  =  180\n",
      "45  X  5  =  225\n",
      "45  X  6  =  270\n",
      "45  X  7  =  315\n",
      "45  X  8  =  360\n",
      "45  X  9  =  405\n",
      "45  X  10  =  450\n"
     ]
    }
   ],
   "source": [
    "#Accept a number from user and display it's table in following format\n",
    "#  5   X   1   = 5\n",
    "#  5   X   2   = 10  .....\n",
    "\n",
    "n=int(input(\"Enter a number:\"))\n",
    "\n",
    "for i in range(1,11):\n",
    "    print(n  ,\" X \",i , \" = \", n*i)\n",
    "\n",
    "\n"
   ]
  },
  {
   "cell_type": "markdown",
   "metadata": {},
   "source": [
    "## Data types in Python\n",
    "\n",
    "### List are Mutable, it means we can change the content of a List"
   ]
  },
  {
   "cell_type": "code",
   "execution_count": 22,
   "metadata": {},
   "outputs": [
    {
     "name": "stdout",
     "output_type": "stream",
     "text": [
      "['Mamta', 'Kolappan', 'Tulika', 'Mahima', 'Rahul', 'Mahek']\n",
      "\n",
      "\n",
      "The 2nd name is  Kolappan\n",
      "Mahek\n"
     ]
    }
   ],
   "source": [
    "#List is a dataype where sequence of different data can be stored!\n",
    "#We use [] bracket to create a list\n",
    "\n",
    "\n",
    "\n",
    "#### List############################################################\n",
    "student=['Mamta','Kolappan', 'Tulika','Mahima','Rahul','Mahek']\n",
    "\n",
    "type(student)\n",
    "\n",
    "student=['Mamta','Kolappan', 'Tulika','Mahima','Rahul','Mahek']\n",
    "\n",
    "\n",
    "####################################################################\n",
    "\n",
    "student1=('Mamta','Kolappan', 'Tulika','Mahima','Rahul','Mahek')\n",
    "\n",
    "type(student1)\n",
    "\n",
    "### Now let us work with List\n",
    "\n",
    "#The below statement will display all the values\n",
    "print(student)\n",
    "\n",
    "#Now let us print 2nd Name from this list\n",
    "print(\"\\n\\nThe 2nd name is \" , student[1])\n",
    "print(student[-1])\n"
   ]
  },
  {
   "cell_type": "code",
   "execution_count": 8,
   "metadata": {},
   "outputs": [],
   "source": [
    "'Checking mutable nature of a List'\n",
    "\n",
    "student[1]='Nothing'"
   ]
  },
  {
   "cell_type": "code",
   "execution_count": 9,
   "metadata": {},
   "outputs": [
    {
     "name": "stdout",
     "output_type": "stream",
     "text": [
      "['Mamta', 'Nothing', 'Tulika', 'Mahima', 'Rahul', 'Mahek']\n"
     ]
    }
   ],
   "source": [
    "print(student)"
   ]
  },
  {
   "cell_type": "code",
   "execution_count": 11,
   "metadata": {},
   "outputs": [
    {
     "name": "stdout",
     "output_type": "stream",
     "text": [
      "Mamta\n",
      "Nothing\n",
      "Tulika\n",
      "Mahima\n",
      "Rahul\n",
      "Mahek\n"
     ]
    }
   ],
   "source": [
    "#Looping through all values of a List\n",
    "#Traversing through all elements of a List\n",
    "\n",
    "for elements in student:\n",
    "    print (elements)\n"
   ]
  },
  {
   "cell_type": "code",
   "execution_count": 21,
   "metadata": {},
   "outputs": [
    {
     "name": "stdout",
     "output_type": "stream",
     "text": [
      "[2, 3, 4]\n",
      "[3, 4, 5, 6, 7, 8, 9, 10]\n",
      "\n",
      "Now Check this -----------------------\n",
      "[1, 2, 3, 4]\n",
      "What will happen when you put [-1] as subscript?\n",
      "10\n"
     ]
    }
   ],
   "source": [
    "n1=[1,2,3,4,5,6,7,8,9,10]\n",
    "n2=[4]\n",
    "\n",
    "#Slicing concept\n",
    "\n",
    "#It starts from 2nd element ([1] is the 2nd element) and it will go till one \n",
    "# less elment from 4\n",
    "print(n1[1:4])\n",
    "\n",
    "#It strats with 3rd element, and goest till last\n",
    "print(n1[2:])\n",
    "print(\"\\nNow Check this -----------------------\")\n",
    "print(n1[:4])\n",
    "\n",
    "print(\"What will happen when you put [-1] as subscript?\")\n",
    "print(n1[-1])"
   ]
  },
  {
   "cell_type": "code",
   "execution_count": 23,
   "metadata": {},
   "outputs": [],
   "source": [
    "n3=n1+n2"
   ]
  },
  {
   "cell_type": "code",
   "execution_count": 24,
   "metadata": {},
   "outputs": [
    {
     "name": "stdout",
     "output_type": "stream",
     "text": [
      "[1, 2, 3, 4, 5, 6, 7, 8, 9, 10, 4]\n"
     ]
    }
   ],
   "source": [
    "print(n3)"
   ]
  },
  {
   "cell_type": "code",
   "execution_count": 25,
   "metadata": {},
   "outputs": [],
   "source": [
    "#Operations on the List Adding multiple lists together\n",
    "newList=student+n3"
   ]
  },
  {
   "cell_type": "code",
   "execution_count": 26,
   "metadata": {},
   "outputs": [
    {
     "name": "stdout",
     "output_type": "stream",
     "text": [
      "['Mamta', 'Kolappan', 'Tulika', 'Mahima', 'Rahul', 'Mahek', 1, 2, 3, 4, 5, 6, 7, 8, 9, 10, 4]\n"
     ]
    }
   ],
   "source": [
    "print(newList)"
   ]
  },
  {
   "cell_type": "code",
   "execution_count": 29,
   "metadata": {},
   "outputs": [],
   "source": [
    "#Droping a List\n",
    "\n",
    "del(newList)"
   ]
  },
  {
   "cell_type": "code",
   "execution_count": 30,
   "metadata": {},
   "outputs": [
    {
     "ename": "NameError",
     "evalue": "name 'newList' is not defined",
     "output_type": "error",
     "traceback": [
      "\u001b[1;31m---------------------------------------------------------------------------\u001b[0m",
      "\u001b[1;31mNameError\u001b[0m                                 Traceback (most recent call last)",
      "\u001b[1;32m<ipython-input-30-4f92959bbfb1>\u001b[0m in \u001b[0;36m<module>\u001b[1;34m()\u001b[0m\n\u001b[1;32m----> 1\u001b[1;33m \u001b[0mprint\u001b[0m\u001b[1;33m(\u001b[0m\u001b[0mnewList\u001b[0m\u001b[1;33m)\u001b[0m\u001b[1;33m\u001b[0m\u001b[0m\n\u001b[0m",
      "\u001b[1;31mNameError\u001b[0m: name 'newList' is not defined"
     ]
    }
   ],
   "source": [
    "print(newList)"
   ]
  },
  {
   "cell_type": "code",
   "execution_count": 31,
   "metadata": {},
   "outputs": [],
   "source": [
    "#Creating a List with differnt data types and List within List\n",
    "\n",
    "\n",
    "myList=['Kolappan',['Neyveli',16,'MBA']]"
   ]
  },
  {
   "cell_type": "code",
   "execution_count": 36,
   "metadata": {},
   "outputs": [
    {
     "name": "stdout",
     "output_type": "stream",
     "text": [
      "MBA\n"
     ]
    }
   ],
   "source": [
    "print(myList[1][2])"
   ]
  },
  {
   "cell_type": "code",
   "execution_count": 37,
   "metadata": {},
   "outputs": [],
   "source": [
    "myList1=['Kolappan',['Neyveli',16,'MBA'],'Tulika',['Varanasi',10,'PhD'],'Mahek',['Raipur',12,'PostDoc']]"
   ]
  },
  {
   "cell_type": "code",
   "execution_count": 39,
   "metadata": {},
   "outputs": [
    {
     "name": "stdout",
     "output_type": "stream",
     "text": [
      "['Kolappan', ['Neyveli', 16, 'MBA'], 'Tulika', ['Varanasi', 10, 'PhD'], 'Mahek', ['Raipur', 12, 'PostDoc']]\n"
     ]
    }
   ],
   "source": [
    "print(myList1)"
   ]
  },
  {
   "cell_type": "code",
   "execution_count": 42,
   "metadata": {},
   "outputs": [
    {
     "name": "stdout",
     "output_type": "stream",
     "text": [
      "10\n"
     ]
    }
   ],
   "source": [
    "print(myList1[3][1])"
   ]
  },
  {
   "cell_type": "code",
   "execution_count": 43,
   "metadata": {},
   "outputs": [
    {
     "data": {
      "text/plain": [
       "10"
      ]
     },
     "execution_count": 43,
     "metadata": {},
     "output_type": "execute_result"
    }
   ],
   "source": [
    "#Popping out elements from a List\n",
    "#Let us use n1 again\n",
    "n1=[1,2,3,4,5,6,7,8,9,10]\n",
    "\n",
    "#We are popping out the last element, which was 10\n",
    "n1.pop(-1)"
   ]
  },
  {
   "cell_type": "code",
   "execution_count": 44,
   "metadata": {},
   "outputs": [
    {
     "name": "stdout",
     "output_type": "stream",
     "text": [
      "[1, 2, 3, 4, 5, 6, 7, 8, 9]\n"
     ]
    }
   ],
   "source": [
    "#See the list now, 10 is not present in the list\n",
    "print(n1)"
   ]
  },
  {
   "cell_type": "code",
   "execution_count": 45,
   "metadata": {},
   "outputs": [
    {
     "name": "stdout",
     "output_type": "stream",
     "text": [
      "See the original List [1, 2, 3, 4, 5, 6, 7, 8, 9]\n",
      "Enter the index of element which you want to delete (Pop out!)4\n",
      "The new list is  [1, 2, 3, 4, 6, 7, 8, 9]  and we popped out  5\n"
     ]
    }
   ],
   "source": [
    "#Let us pop out 1 more element and check and we will ask user to tell us which \n",
    "#element has to be popped out\n",
    "print(\"See the original List\", n1)\n",
    "ele=int(input(\"Enter the index of element which you want to delete (Pop out!)\"))\n",
    "p=n1.pop(ele)\n",
    "\n",
    "print(\"The new list is \", n1, \" and we popped out \", p , \" !!!!\")"
   ]
  },
  {
   "cell_type": "code",
   "execution_count": 46,
   "metadata": {},
   "outputs": [
    {
     "name": "stdout",
     "output_type": "stream",
     "text": [
      "[1, 2, 3, 'Bangalore', 'Ranchi', 4, 5, 6]\n"
     ]
    }
   ],
   "source": [
    "#Different functions/Operations the of List\n",
    "#  + operator cancatenate two lists\n",
    "\n",
    "a=[1,2,3,'Bangalore']\n",
    "b=['Ranchi', 4,5,6]\n",
    "\n",
    "#Concatenating two lists\n",
    "c=a+b\n",
    "\n",
    "print (c)\n"
   ]
  },
  {
   "cell_type": "code",
   "execution_count": 53,
   "metadata": {},
   "outputs": [
    {
     "name": "stdout",
     "output_type": "stream",
     "text": [
      "2\n",
      "4\n",
      "6\n",
      "BangaloreBangalore\n",
      "\n",
      "\n",
      " [1, 2, 3, 'Bangalore', 1, 2, 3, 'Bangalore', 1, 2, 3, 'Bangalore', 1, 2, 3, 'Bangalore', 1, 2, 3, 'Bangalore', 1, 2, 3, 'Bangalore', 1, 2, 3, 'Bangalore', 1, 2, 3, 'Bangalore', 1, 2, 3, 'Bangalore', 1, 2, 3, 'Bangalore']\n"
     ]
    }
   ],
   "source": [
    "#--------------------\n",
    "for i in a:\n",
    "    k=i*2\n",
    "    print (k)\n",
    "    #-------------\n",
    "\n",
    "#when we multiply the List direclty, it is being displayed n times    \n",
    "b=a*10  \n",
    "print(\"\\n\\n\", b)   "
   ]
  },
  {
   "cell_type": "code",
   "execution_count": 58,
   "metadata": {},
   "outputs": [
    {
     "name": "stdout",
     "output_type": "stream",
     "text": [
      "['Mamta', 'Kolappan', 'Tulika', 'Mahima', 'Rahul', 'Mahek']\n",
      "Enter a name :Aniruddh\n",
      "The new list  ['Mamta', 'Kolappan', 'Tulika', 'Mahima', 'Rahul', 'Mahek', 'Aniruddh']\n"
     ]
    }
   ],
   "source": [
    "#List Methods\n",
    "\n",
    "# we can append any new member in a list! it is always gets added at the last\n",
    "# We created earlier this list, student\n",
    "#   student=['Mamta','Kolappan', 'Tulika','Mahima','Rahul','Mahek']\n",
    "print(student)\n",
    "\n",
    "# Now we want to append one more student's name, which we will accept from the user\n",
    "\n",
    "na=input(\"Enter a name :\")\\\n",
    "\n",
    "student.append(na)\n",
    "print (\"The new list \",student)"
   ]
  },
  {
   "cell_type": "code",
   "execution_count": 56,
   "metadata": {},
   "outputs": [
    {
     "data": {
      "text/plain": [
       "'Rahul'"
      ]
     },
     "execution_count": 56,
     "metadata": {},
     "output_type": "execute_result"
    }
   ],
   "source": [
    "#Now pop the last name\n",
    "student.pop(-1)"
   ]
  },
  {
   "cell_type": "code",
   "execution_count": 57,
   "metadata": {},
   "outputs": [
    {
     "data": {
      "text/plain": [
       "['Mamta', 'Kolappan', 'Tulika', 'Mahima', 'Rahul', 'Mahek']"
      ]
     },
     "execution_count": 57,
     "metadata": {},
     "output_type": "execute_result"
    }
   ],
   "source": [
    "student"
   ]
  },
  {
   "cell_type": "code",
   "execution_count": 61,
   "metadata": {},
   "outputs": [],
   "source": [
    "#use of del and remove\n",
    "student\n",
    "#del can also be used to delete an element if you know the index\n",
    "del student[1]\n",
    "\n"
   ]
  },
  {
   "cell_type": "code",
   "execution_count": 62,
   "metadata": {},
   "outputs": [
    {
     "name": "stdout",
     "output_type": "stream",
     "text": [
      "['Mamta', 'Tulika', 'Mahima', 'Rahul', 'Mahek', 'Aniruddh']\n"
     ]
    }
   ],
   "source": [
    "print(student)"
   ]
  },
  {
   "cell_type": "code",
   "execution_count": 63,
   "metadata": {},
   "outputs": [],
   "source": [
    "# we can remove the element, if we know the element\n",
    "\n",
    "student.remove('Aniruddh')"
   ]
  },
  {
   "cell_type": "code",
   "execution_count": 64,
   "metadata": {},
   "outputs": [
    {
     "name": "stdout",
     "output_type": "stream",
     "text": [
      "['Mamta', 'Tulika', 'Mahima', 'Rahul', 'Mahek']\n"
     ]
    }
   ],
   "source": [
    "print(student)"
   ]
  },
  {
   "cell_type": "code",
   "execution_count": 67,
   "metadata": {},
   "outputs": [
    {
     "name": "stdout",
     "output_type": "stream",
     "text": [
      "12\n",
      "500\n",
      "1\n",
      "566\n",
      "47.166666666666664\n"
     ]
    }
   ],
   "source": [
    "#Now let us work with number in a List\n",
    "\n",
    "num1=[1,2,3,4,5,6,7,8,9,10,11,500]\n",
    "\n",
    "print(len(num1))\n",
    "print(max(num1))\n",
    "print(min(num1))\n",
    "print(sum(num1))\n",
    "print(sum(num1)/len(num1)"
   ]
  },
  {
   "cell_type": "code",
   "execution_count": 78,
   "metadata": {},
   "outputs": [],
   "source": [
    "#String\n",
    "#A string is a sequence of characters\n",
    "\n",
    "na1=[\"Tulka Kanojia\"]\n",
    "na2='Mamta Rauniyar'\n",
    "na3=(\"Tulka Kanojia\")\n",
    "na4= {'n':'Tulka Kanojia','age':22}"
   ]
  },
  {
   "cell_type": "code",
   "execution_count": 79,
   "metadata": {},
   "outputs": [
    {
     "name": "stdout",
     "output_type": "stream",
     "text": [
      "<class 'list'>\n",
      "<class 'str'>\n",
      "<class 'str'>\n",
      "<class 'dict'>\n"
     ]
    }
   ],
   "source": [
    "print(type(na1))\n",
    "print(type(na2))\n",
    "print(type(na3))\n",
    "print(type(na4))"
   ]
  },
  {
   "cell_type": "code",
   "execution_count": null,
   "metadata": {},
   "outputs": [],
   "source": [
    "#Create a list to store name, address and phone number of 3 students"
   ]
  },
  {
   "cell_type": "code",
   "execution_count": 9,
   "metadata": {},
   "outputs": [
    {
     "name": "stdout",
     "output_type": "stream",
     "text": [
      "[]\n",
      "['Pen', 'Eraser']\n"
     ]
    }
   ],
   "source": [
    "#Accept details of 5 Products such as ProdName, Price, QtySold and Display all details with Total Price\n",
    "#Creating one Empty List\n",
    "pna=[]\n",
    "print(pna)\n",
    "\n",
    "#Understand how to add values to a list\n",
    "\n",
    "pna.append(\"Pen\")\n",
    "pna.append(\"Eraser\")\n",
    "\n",
    "#Now see the value of pna\n",
    "print(pna)"
   ]
  },
  {
   "cell_type": "code",
   "execution_count": 27,
   "metadata": {},
   "outputs": [
    {
     "name": "stdout",
     "output_type": "stream",
     "text": [
      "Enter Product Name: Pen\n",
      "Enter Unit Price:10\n",
      "Enter Qty Purchased! 2\n",
      "Enter Product Name: PEncil\n",
      "Enter Unit Price:5\n",
      "Enter Qty Purchased! 2\n",
      "Enter Product Name: Eraser\n",
      "Enter Unit Price:2\n",
      "Enter Qty Purchased! 1\n",
      "----------------------------------------------------------------\n",
      "Product Name     Qty      Unit Price        Total Price \n",
      "=================================================================\n",
      "Pen          10         2         20\n",
      "PEncil          5         2         10\n",
      "Eraser          2         1         2\n"
     ]
    }
   ],
   "source": [
    "#first clear the list and make it empty\n",
    "pna=[]\n",
    "pr=[]\n",
    "qty=[]\n",
    "TotPr=[]\n",
    "\n",
    "for i in range(3):\n",
    "    #print(i)\n",
    "    pna.append(input(\"Enter Product Name: \"))\n",
    "    pr.append(int(input(\"Enter Unit Price:\")))\n",
    "    qty.append(int(input(\"Enter Qty Purchased! \")))\n",
    "    TotPr.append(pr[i]*qty[i])\n",
    "\n",
    "i=0\n",
    "print(\"----------------------------------------------------------------\")\n",
    "print(\"Product Name     Qty      Unit Price        Total Price \")\n",
    "print(\"=================================================================\")\n",
    "for i in range(3):\n",
    "    print(pna[i], \"        \" , pr[i], \"       \", qty[i], \"       \", TotPr[i]    )\n",
    "\n"
   ]
  },
  {
   "cell_type": "code",
   "execution_count": null,
   "metadata": {},
   "outputs": [],
   "source": [
    "# Copy the above program in this section and modify your program, where it\n",
    "#will ask you how many data you want to input, and it will accept\n",
    "# deatils of only that many products!\n",
    "\n",
    "\n",
    "\n"
   ]
  },
  {
   "cell_type": "code",
   "execution_count": 39,
   "metadata": {},
   "outputs": [
    {
     "name": "stdout",
     "output_type": "stream",
     "text": [
      "10\n",
      "9\n",
      "8\n",
      "7\n",
      "6\n"
     ]
    }
   ],
   "source": [
    "#Reverse For loop\n",
    "\n",
    "for i in range (10,5,-1):\n",
    "    print(i)\n",
    "    \n",
    "\n"
   ]
  },
  {
   "cell_type": "code",
   "execution_count": 46,
   "metadata": {},
   "outputs": [
    {
     "name": "stdout",
     "output_type": "stream",
     "text": [
      "Enter a String:madam\n",
      "Its Palindrome!\n"
     ]
    }
   ],
   "source": [
    "#Accept a string from user and check, it is Palindrome or not!\n",
    "\n",
    "na=input(\"Enter a String:\")\n",
    "\n",
    "check=na[::-1]\n",
    "\n",
    "if na==check:\n",
    "    print(\"Its Palindrome!\")\n",
    "else:\n",
    "    print(\"Nooooooo It;s Not!!!\")"
   ]
  },
  {
   "cell_type": "code",
   "execution_count": 47,
   "metadata": {},
   "outputs": [],
   "source": [
    "#String functions of Python\n",
    "\n",
    "\n",
    "\n",
    "\n",
    "\n",
    "\n"
   ]
  },
  {
   "cell_type": "code",
   "execution_count": 50,
   "metadata": {},
   "outputs": [
    {
     "name": "stdout",
     "output_type": "stream",
     "text": [
      "Enter Ordering Cost:60\n",
      "Enter Annual Demand:6000\n",
      "Enter Holding Cost per Unit:2\n",
      "EOQ is :  600.0\n"
     ]
    }
   ],
   "source": [
    "# Write a python code to determine EOQ\n",
    "# S= Ordering Cost\n",
    "# D = Annual Demand\n",
    "# H = Holding cost per unit\n",
    "\n",
    "# We need out for Number of Orders, Time between Cycles, Annual Ordering Cost\n",
    "# Annual Hodling cost, Annual Total Cost\n",
    "\n",
    "S=int(input(\"Enter Ordering Cost:\"))\n",
    "D=int(input(\"Enter Annual Demand:\"))\n",
    "H=int(input(\"Enter Holding Cost per Unit:\"))\n",
    "      \n",
    "import numpy as np\n",
    "import matplotlib.pyplot as plt\n",
    "%matplotlib inline\n",
    "\n",
    "Q=np.sqrt(2*D*S/H)\n",
    "\n",
    "no_of_orders=D/Q\n",
    "\n",
    "time_between_cycles=12/no_of_orders\n",
    "\n",
    "AOC=D/Q*S\n",
    "AHC=Q/2*H\n",
    "ATC=AOC+AHC\n",
    "\n",
    "print(\"EOQ is : \", Q)\n",
    "\n"
   ]
  },
  {
   "cell_type": "code",
   "execution_count": 52,
   "metadata": {},
   "outputs": [
    {
     "name": "stdout",
     "output_type": "stream",
     "text": [
      "Enter temprature in Degree Centigrate:45\n",
      "The temprature in Farenhite is  113.0\n"
     ]
    }
   ],
   "source": [
    "# Accept temrature from the user in Degree Centegrate and \n",
    "# convert to Farenhite\n",
    "\n",
    "c=float(input(\"Enter temprature in Degree Centigrate:\"))\n",
    "\n",
    "f=(9*c + 160)/5\n",
    "\n",
    "print(\"The temprature in Farenhite is \", f)"
   ]
  },
  {
   "cell_type": "code",
   "execution_count": null,
   "metadata": {},
   "outputs": [],
   "source": []
  },
  {
   "cell_type": "code",
   "execution_count": null,
   "metadata": {},
   "outputs": [],
   "source": []
  }
 ],
 "metadata": {
  "kernelspec": {
   "display_name": "Python 3",
   "language": "python",
   "name": "python3"
  },
  "language_info": {
   "codemirror_mode": {
    "name": "ipython",
    "version": 3
   },
   "file_extension": ".py",
   "mimetype": "text/x-python",
   "name": "python",
   "nbconvert_exporter": "python",
   "pygments_lexer": "ipython3",
   "version": "3.7.6"
  }
 },
 "nbformat": 4,
 "nbformat_minor": 4
}
