{
 "cells": [
  {
   "cell_type": "code",
   "execution_count": null,
   "metadata": {},
   "outputs": [],
   "source": [
    "Answer these 3 questions without typing code. Then type code to check your answer.\n",
    "\n",
    "What is the value of the expression 4 * (6 + 5)\n",
    "\n",
    "What is the value of the expression 4 * 6 + 5 \n",
    "\n",
    "What is the value of the expression 4 + 6 * 5 "
   ]
  },
  {
   "cell_type": "code",
   "execution_count": 1,
   "metadata": {},
   "outputs": [
    {
     "name": "stdout",
     "output_type": "stream",
     "text": [
      "['The', 'quick', 'brown', 'fox', 'jumps', 'over', 'the', 'lazy', 'dog']\n"
     ]
    }
   ],
   "source": [
    "#Split and store different words of the following string as a list\n",
    "s = 'The Quick Brown fox jumps over the lazy dog'\n",
    "\n",
    "s= 'The quick brown fox jumps over the lazy dog'\n",
    "l=s.split()\n",
    "print(l)\n"
   ]
  },
  {
   "cell_type": "code",
   "execution_count": 2,
   "metadata": {},
   "outputs": [
    {
     "name": "stdout",
     "output_type": "stream",
     "text": [
      "e\n"
     ]
    }
   ],
   "source": [
    "s = 'hello'\n",
    "# Print out 'e' using indexing\n",
    "print(s[1])"
   ]
  },
  {
   "cell_type": "code",
   "execution_count": 3,
   "metadata": {
    "scrolled": true
   },
   "outputs": [
    {
     "name": "stdout",
     "output_type": "stream",
     "text": [
      "olleh\n"
     ]
    }
   ],
   "source": [
    "s ='hello'\n",
    "# Reverse the string using slicing\n",
    "print(s[::-1])"
   ]
  },
  {
   "cell_type": "code",
   "execution_count": null,
   "metadata": {},
   "outputs": [],
   "source": [
    "#Accept a string from user and check it Palindrome or not\n",
    "#RADAR   #DALDA    #MALAYALAM     "
   ]
  },
  {
   "cell_type": "code",
   "execution_count": 7,
   "metadata": {},
   "outputs": [
    {
     "name": "stdout",
     "output_type": "stream",
     "text": [
      "n\n",
      "n\n"
     ]
    }
   ],
   "source": [
    "s='hello This is a palce to Learn Python'\n",
    "# print the last letter 'o' by two different methods\n",
    "\n",
    "le=len(s)\n",
    "print(s[le-1])\n",
    "\n",
    "#Second Method\n",
    "\n",
    "print(s[-1])"
   ]
  },
  {
   "cell_type": "code",
   "execution_count": 10,
   "metadata": {},
   "outputs": [
    {
     "name": "stdout",
     "output_type": "stream",
     "text": [
      "hello\n",
      "[1, 2, [3, 4, 'Rupesh Kumar Sinha']]\n"
     ]
    }
   ],
   "source": [
    "\n",
    "myList = [1,2,[3,4,'hello']]\n",
    "\n",
    "#Reassign yourname to 'hello'\n",
    "\n",
    "print(myList[2][2])\n",
    "myList[2][2]='Rupesh Kumar Sinha'\n",
    "\n",
    "print(myList)"
   ]
  },
  {
   "cell_type": "code",
   "execution_count": 16,
   "metadata": {},
   "outputs": [
    {
     "name": "stdout",
     "output_type": "stream",
     "text": [
      "[0, 0, 1, 2, 3, 4, 5, 9, 11, 12, 23, 25, 45]\n",
      "Now using Sorted [0, 0, 1, 2, 3, 4, 5, 9, 11, 12, 23, 25, 45]\n",
      "is there any change in myList [12, 5, 1, 45, 0, 23, 0, 2, 11, 3, 4, 9, 25]\n"
     ]
    }
   ],
   "source": [
    "myList1=[12,5,1,45,0,23,0,2,11,3,4,9,25]\n",
    "#Sort myList1 and display it  (By two methods)  sort and sorted (Is there any difference between them?)\n",
    "\n",
    "myList1.sort()\n",
    "print(myList1)\n",
    "\n",
    "myList1=[12,5,1,45,0,23,0,2,11,3,4,9,25]\n",
    "print(\"Now using Sorted\",sorted(myList1))\n",
    "\n",
    "print (\"is there any change in myList\", myList1)"
   ]
  },
  {
   "cell_type": "markdown",
   "metadata": {},
   "source": [
    "## Dictionary"
   ]
  },
  {
   "cell_type": "code",
   "execution_count": null,
   "metadata": {},
   "outputs": [],
   "source": [
    "d = {'simple_key':'hello'}\n",
    "# Grab 'hello'"
   ]
  },
  {
   "cell_type": "code",
   "execution_count": null,
   "metadata": {},
   "outputs": [],
   "source": [
    "d = {'k1':{'k2':'hello'}}\n",
    "# Grab 'hello'"
   ]
  },
  {
   "cell_type": "markdown",
   "metadata": {},
   "source": [
    "## Set"
   ]
  },
  {
   "cell_type": "code",
   "execution_count": 25,
   "metadata": {},
   "outputs": [
    {
     "name": "stdout",
     "output_type": "stream",
     "text": [
      "[1, 2, 4, 50, 23, 0, 1, 1, 1, 4, 5, 6, 6, 5, 4, 34, 5, 66, 12, 5]\n",
      "{0, 1, 2, 34, 4, 5, 6, 66, 12, 50, 23}\n",
      "The values of mySet1: {0, 2, 4, 5, 9, 10, 12, 45, 78}\n"
     ]
    }
   ],
   "source": [
    "L1=[1,2,4,50,23,0,1,1,1,4,5,6,6,5,4,34,5,66,12,5]\n",
    "print(L1)\n",
    "\n",
    "mySet=set(L1)\n",
    "\n",
    "#Set will store only unique values \n",
    "print(mySet)\n",
    "##print(sorted(L1))\n",
    "\n",
    "#Create a Set by assinging values directly\n",
    "\n",
    "mySet1={12,45,78,12,10,45,78,2,4,5,9,0,0,0,0,45,45,45,45}\n",
    "\n",
    "print(\"The values of mySet1:\", mySet1)\n"
   ]
  },
  {
   "cell_type": "markdown",
   "metadata": {},
   "source": [
    "## Tuple"
   ]
  },
  {
   "cell_type": "code",
   "execution_count": null,
   "metadata": {},
   "outputs": [],
   "source": [
    "#Create a Tuple with list of your name and your friends name.\n"
   ]
  },
  {
   "cell_type": "markdown",
   "metadata": {},
   "source": [
    "<Div>\n",
    "    <html>\n",
    "    <table>\n",
    "        <tr>\n",
    "            <td>==</td><td>If the values of two operands are equal, then the condition becomes true. </td>\n",
    "    </tr>\n",
    "    \n",
    "    <table>\n",
    "        </html>\n",
    "    </Div>\n",
    "\n",
    "\n",
    "Booleans\n",
    "For the following quiz questions, we will get a preview of comparison operators.\n",
    "In the table below, a=3 and b=4.\n",
    "\n",
    "Operator\tDescription\tExample\n",
    "==\tIf the values of two operands are equal, then the condition becomes true.\t(a == b) is not true.\n",
    "!=\tIf values of two operands are not equal, then condition becomes true.\t(a != b) is true.\n",
    ">\tIf the value of left operand is greater than the value of right operand, then condition becomes true.\t(a > b) is not true.\n",
    "<\tIf the value of left operand is less than the value of right operand, then condition becomes true.\t(a < b) is true.\n",
    ">=\tIf the value of left operand is greater than or equal to the value of right operand, then condition becomes true.\t(a >= b) is not true.\n",
    "<=\tIf the value of left operand is less than or equal to the value of right operand, then condition becomes true.\t(a <= b) is true.\n"
   ]
  },
  {
   "cell_type": "code",
   "execution_count": null,
   "metadata": {},
   "outputs": [],
   "source": [
    "12<5"
   ]
  },
  {
   "cell_type": "code",
   "execution_count": null,
   "metadata": {},
   "outputs": [],
   "source": [
    "12=='12'"
   ]
  },
  {
   "cell_type": "code",
   "execution_count": 26,
   "metadata": {
    "collapsed": true
   },
   "outputs": [
    {
     "ename": "NameError",
     "evalue": "name 'char' is not defined",
     "output_type": "error",
     "traceback": [
      "\u001b[1;31m---------------------------------------------------------------------------\u001b[0m",
      "\u001b[1;31mNameError\u001b[0m                                 Traceback (most recent call last)",
      "\u001b[1;32m<ipython-input-26-abb2266d854a>\u001b[0m in \u001b[0;36m<module>\u001b[1;34m\u001b[0m\n\u001b[1;32m----> 1\u001b[1;33m \u001b[0mprint\u001b[0m\u001b[1;33m(\u001b[0m\u001b[0mchar\u001b[0m\u001b[1;33m(\u001b[0m\u001b[0mA\u001b[0m\u001b[1;33m)\u001b[0m\u001b[1;33m)\u001b[0m\u001b[1;33m\u001b[0m\u001b[1;33m\u001b[0m\u001b[0m\n\u001b[0m",
      "\u001b[1;31mNameError\u001b[0m: name 'char' is not defined"
     ]
    }
   ],
   "source": [
    "2**3==8"
   ]
  },
  {
   "cell_type": "code",
   "execution_count": null,
   "metadata": {},
   "outputs": [],
   "source": [
    "'rupesh'=='Rupesh'"
   ]
  },
  {
   "cell_type": "code",
   "execution_count": 28,
   "metadata": {},
   "outputs": [
    {
     "data": {
      "text/plain": [
       "True"
      ]
     },
     "execution_count": 28,
     "metadata": {},
     "output_type": "execute_result"
    }
   ],
   "source": [
    "0!='o'\n",
    "\n",
    "1!='l'"
   ]
  },
  {
   "cell_type": "code",
   "execution_count": 31,
   "metadata": {},
   "outputs": [
    {
     "data": {
      "text/plain": [
       "False"
      ]
     },
     "execution_count": 31,
     "metadata": {},
     "output_type": "execute_result"
    }
   ],
   "source": [
    "12<4 & 3>4"
   ]
  },
  {
   "cell_type": "code",
   "execution_count": 36,
   "metadata": {},
   "outputs": [
    {
     "data": {
      "text/plain": [
       "False"
      ]
     },
     "execution_count": 36,
     "metadata": {},
     "output_type": "execute_result"
    }
   ],
   "source": [
    "10<100 and 300<10"
   ]
  },
  {
   "cell_type": "code",
   "execution_count": 39,
   "metadata": {},
   "outputs": [
    {
     "data": {
      "text/plain": [
       "False"
      ]
     },
     "execution_count": 39,
     "metadata": {},
     "output_type": "execute_result"
    }
   ],
   "source": [
    "10>100 or 300<10 and 12>4"
   ]
  },
  {
   "cell_type": "code",
   "execution_count": 41,
   "metadata": {},
   "outputs": [],
   "source": [
    "#Print all elements of following string using a loop\n",
    "\n",
    "myStr='The quick brown fox jumps over the lazy dog!'"
   ]
  },
  {
   "cell_type": "code",
   "execution_count": null,
   "metadata": {},
   "outputs": [],
   "source": [
    "#For the above string myStr, print everything using indexing (two methods)"
   ]
  },
  {
   "cell_type": "code",
   "execution_count": 46,
   "metadata": {},
   "outputs": [
    {
     "name": "stdout",
     "output_type": "stream",
     "text": [
      "The quick brown fox jumps over the lazy dog\n",
      "The quick brown fox jumps over the lazy dog\n",
      "The quick brown fox jumps over the lazy dog!\n",
      "The quick brown fox jumps over the lazy dog!\n"
     ]
    }
   ],
   "source": [
    "le=len(myStr)\n",
    "\n",
    "#1st Method\n",
    "print(myStr[0:le-1])\n",
    "\n",
    "#2nd Method\n",
    "\n",
    "print(myStr[0:-1])\n",
    "\n",
    "print(myStr[0:])\n",
    "\n",
    "print(myStr[:])"
   ]
  },
  {
   "cell_type": "code",
   "execution_count": null,
   "metadata": {},
   "outputs": [],
   "source": []
  }
 ],
 "metadata": {
  "kernelspec": {
   "display_name": "Python 3",
   "language": "python",
   "name": "python3"
  },
  "language_info": {
   "codemirror_mode": {
    "name": "ipython",
    "version": 3
   },
   "file_extension": ".py",
   "mimetype": "text/x-python",
   "name": "python",
   "nbconvert_exporter": "python",
   "pygments_lexer": "ipython3",
   "version": "3.7.6"
  }
 },
 "nbformat": 4,
 "nbformat_minor": 4
}
