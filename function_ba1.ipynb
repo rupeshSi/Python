{
 "cells": [
  {
   "cell_type": "markdown",
   "metadata": {},
   "source": [
    "## Function                           \n",
    "<div> <img src=\"https://bschool.cms.ac.in/images/CMS-BSchool-logo.jpg\" height=50 width=200>   </div>     \n",
    "   \n"
   ]
  },
  {
   "cell_type": "markdown",
   "metadata": {},
   "source": [
    "\n",
    "<DIV>\n",
    " <FONT FACE=VERDANA SIZE=4 COLOR=STEELBLUE>\n",
    "functions, are named blocks of code that are designed to do one specific job.\n",
    "When you want to perform a particular task that you’ve defined in a function, you call the name of the function responsible for it. If you need to perform that task multiple times throughout your program, you don’t need to type all the code for the same task again and again \n",
    "you just call the function dedicated to handling that task, and the call tells Python to run the code inside the function. \n",
    "The functions makes your programs easier to write, read, test, and fix.\n",
    "    </FONT>\n",
    "</DIV>\n",
    "   "
   ]
  },
  {
   "cell_type": "markdown",
   "metadata": {},
   "source": [
    "## Defining a Function"
   ]
  },
  {
   "cell_type": "code",
   "execution_count": 2,
   "metadata": {},
   "outputs": [],
   "source": [
    "# Here we are creating a function for good morning\n",
    "def goodMor():\n",
    "\n",
    " print(\"Good Morning!\")\n",
    "\n"
   ]
  },
  {
   "cell_type": "code",
   "execution_count": 3,
   "metadata": {},
   "outputs": [],
   "source": [
    "def goodAf():\n",
    "    print(\"Godd Afternoon!\").                   "
   ]
  },
  {
   "cell_type": "code",
   "execution_count": 4,
   "metadata": {},
   "outputs": [
    {
     "name": "stdout",
     "output_type": "stream",
     "text": [
      "Good Morning!\n",
      "Godd Afternoon!\n"
     ]
    }
   ],
   "source": [
    "goodMor()\n",
    "goodAf()"
   ]
  },
  {
   "cell_type": "code",
   "execution_count": 6,
   "metadata": {},
   "outputs": [
    {
     "name": "stdout",
     "output_type": "stream",
     "text": [
      "The attributes of now() are : \n",
      "Year : 2020\n",
      "Month : 10\n",
      "Day : 21\n",
      "Hour : 7\n",
      "Minute : 59\n",
      "Second : 50\n",
      "Microsecond : 66027\n"
     ]
    }
   ],
   "source": [
    "# importing datetime module for now()  \n",
    "import datetime  \n",
    "    \n",
    "# using now() to get current time  \n",
    "current_time = datetime.datetime.now()  \n",
    "    \n",
    "# Printing attributes of now().  \n",
    "print (\"The attributes of now() are : \")  \n",
    "    \n",
    "print (\"Year : \", end = \"\")  \n",
    "print (current_time.year)  \n",
    "    \n",
    "print (\"Month : \", end = \"\")  \n",
    "print (current_time.month)  \n",
    "    \n",
    "print (\"Day : \", end = \"\")  \n",
    "print (current_time.day)  \n",
    "print (\"Hour : \", end = \"\")  \n",
    "print (current_time.hour)  \n",
    "    \n",
    "print (\"Minute : \", end = \"\")  \n",
    "print (current_time.minute)  \n",
    "    \n",
    "print (\"Second : \", end = \"\")  \n",
    "print (current_time.second)  \n",
    "    \n",
    "print (\"Microsecond : \", end = \"\")  \n",
    "print (current_time.microsecond)  "
   ]
  },
  {
   "cell_type": "code",
   "execution_count": 7,
   "metadata": {},
   "outputs": [
    {
     "name": "stdout",
     "output_type": "stream",
     "text": [
      "Good Morning!\n"
     ]
    }
   ],
   "source": [
    "#Now fetch the current time to display message\n",
    "hr=current_time.hour\n",
    "\n",
    "if hr<12:\n",
    "    goodMor()\n",
    "else:\n",
    "    goodAf()"
   ]
  },
  {
   "cell_type": "markdown",
   "metadata": {},
   "source": [
    "## Passing Information to a Function\n",
    "A function definition can have multiple parameters, a function call may need multiple arguments. \n",
    "Arguments to the functions can be passed in different ways.\n",
    "1. positional arguments, which need to be in the same order the parameters were written\n",
    "2. keyword arguments, where each argument consists of a variable name and a value; and lists and dictionaries of values. "
   ]
  },
  {
   "cell_type": "markdown",
   "metadata": {},
   "source": [
    "## Positional Arguments"
   ]
  },
  {
   "cell_type": "code",
   "execution_count": 16,
   "metadata": {},
   "outputs": [],
   "source": [
    "def dispProd(pName,price):\n",
    "    print(\"Displaying product information.........\")\n",
    "    print(\"The product is: \",pName)\n",
    "    print(\"The product's Price is: \",price)\n",
    "    \n",
    "    "
   ]
  },
  {
   "cell_type": "code",
   "execution_count": 17,
   "metadata": {},
   "outputs": [
    {
     "name": "stdout",
     "output_type": "stream",
     "text": [
      "Displaying product information.........\n",
      "The product is:  Chair\n",
      "The product's Price is:  7500\n"
     ]
    }
   ],
   "source": [
    "dispProd('Chair',7500)"
   ]
  },
  {
   "cell_type": "code",
   "execution_count": 10,
   "metadata": {},
   "outputs": [
    {
     "name": "stdout",
     "output_type": "stream",
     "text": [
      "Displaying product information.........\n",
      "The product is:  Table\n",
      "The product's Price is:  12500\n"
     ]
    }
   ],
   "source": [
    "dispProd('Table',12500)"
   ]
  },
  {
   "cell_type": "markdown",
   "metadata": {},
   "source": [
    "## Keyword Arguments\n",
    "A keyword argument is a name-value pair that you pass to a function.\n",
    "We need to directly associate the name and the value within the argument, so when we\n",
    "pass the argument to the function, there will not be any confusion"
   ]
  },
  {
   "cell_type": "code",
   "execution_count": 18,
   "metadata": {},
   "outputs": [
    {
     "name": "stdout",
     "output_type": "stream",
     "text": [
      "Displaying product information.........\n",
      "The product is:  Chair\n",
      "The product's Price is:  7500\n"
     ]
    }
   ],
   "source": [
    "dispProd(pName='Chair',price=7500)"
   ]
  },
  {
   "cell_type": "code",
   "execution_count": 19,
   "metadata": {},
   "outputs": [
    {
     "name": "stdout",
     "output_type": "stream",
     "text": [
      "Displaying product information.........\n",
      "The product is:  Chair\n",
      "The product's Price is:  7500\n"
     ]
    }
   ],
   "source": [
    "##Now change the order of the arguments\n",
    "dispProd(price=7500,pName='Chair')\n",
    "\n",
    "##No problem see below!"
   ]
  },
  {
   "cell_type": "code",
   "execution_count": 20,
   "metadata": {},
   "outputs": [
    {
     "name": "stdout",
     "output_type": "stream",
     "text": [
      "Displaying product information.........\n",
      "The product is:  12500\n",
      "The product's Price is:  Table\n"
     ]
    }
   ],
   "source": [
    "#But \n",
    "dispProd(12500,'Table')\n",
    "\n",
    "##The output will confuse you.. and it will be meaningless... Right?"
   ]
  },
  {
   "cell_type": "markdown",
   "metadata": {},
   "source": [
    "## Default Values\n",
    "When writing a function, you can define a default value for each parameter.\n",
    "If an argument for a parameter is provided in the function call, Python uses\n",
    "the argument value. If not, it uses the parameter’s default value. So when\n",
    "you define a default value for a parameter, you can exclude the corresponding argument you’d usually write in the function call. Using default values\n",
    "can simplify your function calls and clarify the ways in which your functions\n",
    "are typically used."
   ]
  },
  {
   "cell_type": "code",
   "execution_count": 23,
   "metadata": {},
   "outputs": [],
   "source": [
    "#Creating another function with default value\n",
    "def dispProd_(pName,price,pCatg='Furniture'):\n",
    "    print(\"Displaying product information.........\")\n",
    "    print('Product Category is :',pCatg)\n",
    "    print(\"The product is: \",pName)\n",
    "    print(\"The product's Price is: \",price)"
   ]
  },
  {
   "cell_type": "code",
   "execution_count": 25,
   "metadata": {},
   "outputs": [
    {
     "name": "stdout",
     "output_type": "stream",
     "text": [
      "Displaying product information.........\n",
      "Product Category is : Furniture\n",
      "The product is:  Chair\n",
      "The product's Price is:  7500\n"
     ]
    }
   ],
   "source": [
    "dispProd_(price=7500,pName='Chair')"
   ]
  },
  {
   "cell_type": "code",
   "execution_count": 27,
   "metadata": {},
   "outputs": [
    {
     "name": "stdout",
     "output_type": "stream",
     "text": [
      "Displaying product information.........\n",
      "Product Category is : Plastic Furniture..\n",
      "The product is:  Chair\n",
      "The product's Price is:  7500\n"
     ]
    }
   ],
   "source": [
    "dispProd_(pCatg='Plastic Furniture..',price=7500,pName='Chair')"
   ]
  },
  {
   "cell_type": "code",
   "execution_count": null,
   "metadata": {},
   "outputs": [],
   "source": []
  }
 ],
 "metadata": {
  "kernelspec": {
   "display_name": "Python 3",
   "language": "python",
   "name": "python3"
  },
  "language_info": {
   "codemirror_mode": {
    "name": "ipython",
    "version": 3
   },
   "file_extension": ".py",
   "mimetype": "text/x-python",
   "name": "python",
   "nbconvert_exporter": "python",
   "pygments_lexer": "ipython3",
   "version": "3.7.6"
  }
 },
 "nbformat": 4,
 "nbformat_minor": 4
}
