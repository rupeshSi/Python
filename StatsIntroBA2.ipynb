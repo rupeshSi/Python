{
 "cells": [
  {
   "cell_type": "markdown",
   "metadata": {},
   "source": [
    "## Mean or Average"
   ]
  },
  {
   "cell_type": "code",
   "execution_count": 4,
   "metadata": {},
   "outputs": [],
   "source": [
    "marks=[42,45,40,38,42,38,47]\n",
    "total=sum(marks)\n",
    "ele=len(marks)"
   ]
  },
  {
   "cell_type": "code",
   "execution_count": 5,
   "metadata": {},
   "outputs": [
    {
     "name": "stdout",
     "output_type": "stream",
     "text": [
      "41.714285714285715\n"
     ]
    }
   ],
   "source": [
    "average=total/ele\n",
    "\n",
    "print(average)"
   ]
  },
  {
   "cell_type": "code",
   "execution_count": 9,
   "metadata": {},
   "outputs": [],
   "source": [
    "#Create a function to calcualte mean of the given sets of values\n",
    "\n",
    "def cal_mean(x):\n",
    "    tot=sum(x)\n",
    "    N=len(x)\n",
    "    mean=tot/N\n",
    "    return mean\n",
    "    "
   ]
  },
  {
   "cell_type": "code",
   "execution_count": 13,
   "metadata": {},
   "outputs": [
    {
     "name": "stdout",
     "output_type": "stream",
     "text": [
      "The average salary is 48.666666666666664\n"
     ]
    }
   ],
   "source": [
    "sal=[12,25,35,45,50,125]\n",
    "\n",
    "x=cal_mean(sal)\n",
    "print(\"The average salary is\", x)"
   ]
  },
  {
   "cell_type": "code",
   "execution_count": 14,
   "metadata": {},
   "outputs": [
    {
     "name": "stdout",
     "output_type": "stream",
     "text": [
      "28.0\n"
     ]
    }
   ],
   "source": [
    "marks=[20,20,30,30,40]\n",
    "\n",
    "print(cal_mean(marks))"
   ]
  },
  {
   "cell_type": "markdown",
   "metadata": {},
   "source": [
    "# Median\n",
    "\n",
    "5,6,7,10,12\n",
    "\n",
    "10,20,30,40,50,60\n",
    "\n",
    "1. Sort the number\n",
    "2. Check total number of elements are odd or even and then accrodingly mid value or addition of mid two values will be the median"
   ]
  },
  {
   "cell_type": "code",
   "execution_count": 65,
   "metadata": {},
   "outputs": [],
   "source": [
    "sal=[12,5,7,45,55,55,45,65,78,65,45,56,56,56,56,56,56,56,56,56,56,56,56,56,120,125,56,45,56,75,75,45,45,45,45,45]"
   ]
  },
  {
   "cell_type": "code",
   "execution_count": 66,
   "metadata": {},
   "outputs": [
    {
     "name": "stdout",
     "output_type": "stream",
     "text": [
      "[5, 7, 12, 45, 45, 45, 45, 45, 45, 45, 45, 45, 55, 55, 56, 56, 56, 56, 56, 56, 56, 56, 56, 56, 56, 56, 56, 56, 56, 65, 65, 75, 75, 78, 120, 125]\n"
     ]
    }
   ],
   "source": [
    "sal.sort()\n",
    "print (sal)"
   ]
  },
  {
   "cell_type": "code",
   "execution_count": 31,
   "metadata": {},
   "outputs": [
    {
     "name": "stdout",
     "output_type": "stream",
     "text": [
      "19\n"
     ]
    }
   ],
   "source": [
    "N=len(sal)\n",
    "print(N)"
   ]
  },
  {
   "cell_type": "code",
   "execution_count": 33,
   "metadata": {},
   "outputs": [
    {
     "name": "stdout",
     "output_type": "stream",
     "text": [
      "The MEd sal  55\n"
     ]
    }
   ],
   "source": [
    "if N%2==0:\n",
    "    m1=(N/2) -1\n",
    "    m2=((N/2)+1)-1\n",
    "    \n",
    "    print(m1,\"  \" ,m2)\n",
    "    #Now calculate median\n",
    "    m1=int(m1)\n",
    "    m2=int(m2)\n",
    "    med=(sal[m1]+sal[m2])/2\n",
    "    \n",
    "    print(\"Median salary : \", med)\n",
    "else:\n",
    "    m1=(N/2)-1\n",
    "    m1=int(m1)\n",
    "    print(\"The Median sal \" , sal[m1])"
   ]
  },
  {
   "cell_type": "markdown",
   "metadata": {},
   "source": [
    "## Mode\n",
    "\n",
    "The task is to disply only that value where the counter is heighest!"
   ]
  },
  {
   "cell_type": "code",
   "execution_count": 34,
   "metadata": {},
   "outputs": [],
   "source": [
    "from collections import Counter"
   ]
  },
  {
   "cell_type": "code",
   "execution_count": 67,
   "metadata": {},
   "outputs": [
    {
     "name": "stdout",
     "output_type": "stream",
     "text": [
      "Counter({56: 15, 45: 9, 55: 2, 65: 2, 75: 2, 5: 1, 7: 1, 12: 1, 78: 1, 120: 1, 125: 1})\n"
     ]
    }
   ],
   "source": [
    "c=Counter(sal)\n",
    "print(c)"
   ]
  },
  {
   "cell_type": "code",
   "execution_count": 71,
   "metadata": {},
   "outputs": [
    {
     "name": "stdout",
     "output_type": "stream",
     "text": [
      "[(56, 15), (45, 9), (55, 2), (65, 2), (75, 2), (5, 1), (7, 1), (12, 1), (78, 1), (120, 1), (125, 1)]\n"
     ]
    }
   ],
   "source": [
    "#Above line is displaying all values with it's freq\n",
    "#We need the value with highest no. of occ. i.e. mode (For this we are using most_common())\n",
    "my_mode=c.most_common()\n",
    "print(my_mode)"
   ]
  },
  {
   "cell_type": "code",
   "execution_count": 56,
   "metadata": {},
   "outputs": [
    {
     "name": "stdout",
     "output_type": "stream",
     "text": [
      "Mode :  45 Frequency :  9\n"
     ]
    }
   ],
   "source": [
    "print(\"Mode : \" , my_mode[0][0], \"Frequency : \" , my_mode[0][1])"
   ]
  },
  {
   "cell_type": "code",
   "execution_count": null,
   "metadata": {},
   "outputs": [],
   "source": [
    "#Create a function which will accept a list of numbers and disply the Frequency tableb"
   ]
  },
  {
   "cell_type": "code",
   "execution_count": 72,
   "metadata": {},
   "outputs": [
    {
     "name": "stdout",
     "output_type": "stream",
     "text": [
      "11\n"
     ]
    }
   ],
   "source": [
    "count=len(my_mode)\n",
    "print(count)"
   ]
  },
  {
   "cell_type": "code",
   "execution_count": 83,
   "metadata": {},
   "outputs": [
    {
     "name": "stdout",
     "output_type": "stream",
     "text": [
      "Value     \t     Frequency\n",
      "---------------------------\n",
      "|   56    \t| 15    |  \n",
      "|   45    \t| 9    |  \n",
      "|   55    \t| 2    |  \n",
      "|   65    \t| 2    |  \n",
      "|   75    \t| 2    |  \n",
      "|   5    \t| 1    |  \n",
      "|   7    \t| 1    |  \n",
      "|   12    \t| 1    |  \n",
      "|   78    \t| 1    |  \n",
      "|   120    \t| 1    |  \n",
      "|   125    \t| 1    |  \n"
     ]
    }
   ],
   "source": [
    "i=0\n",
    "print(\"Value     \\t     Frequency\")\n",
    "print(\"---------------------------\")\n",
    "while i<count:\n",
    "    \n",
    "    print(  \"|  \",my_mode[i][0],\"   \\t|\",  my_mode[i][1],  \"   |  \")\n",
    "    i+=1"
   ]
  },
  {
   "cell_type": "markdown",
   "metadata": {},
   "source": [
    "## Regression"
   ]
  },
  {
   "cell_type": "code",
   "execution_count": 104,
   "metadata": {},
   "outputs": [],
   "source": [
    "%matplotlib inline\n",
    "import numpy as np\n",
    "import matplotlib.pyplot as plt\n",
    "import pandas as pd"
   ]
  },
  {
   "cell_type": "code",
   "execution_count": 111,
   "metadata": {},
   "outputs": [
    {
     "name": "stdout",
     "output_type": "stream",
     "text": [
      "0     5712.0\n",
      "1        6.6\n",
      "2       44.5\n",
      "3        5.7\n",
      "4     4603.0\n",
      "       ...  \n",
      "57      12.3\n",
      "58       2.5\n",
      "59      58.0\n",
      "60       3.9\n",
      "61      17.0\n",
      "Name: BrainWt, Length: 62, dtype: float64\n"
     ]
    },
    {
     "data": {
      "text/plain": [
       "<matplotlib.collections.PathCollection at 0x22869e228c8>"
      ]
     },
     "execution_count": 111,
     "metadata": {},
     "output_type": "execute_result"
    },
    {
     "data": {
      "image/png": "[encoded data removed]",
      "text/plain": [
       "<Figure size 432x288 with 1 Axes>"
      ]
     },
     "metadata": {
      "needs_background": "light"
     },
     "output_type": "display_data"
    }
   ],
   "source": [
    "mammals = pd.read_csv('./Data/mammals1.csv',sep='\\t')\n",
    "\n",
    "print(mammals['BrainWt'])\n",
    "plt.scatter(mammals['BrainWt'],mammals['BodyWt'])"
   ]
  },
  {
   "cell_type": "code",
   "execution_count": 116,
   "metadata": {},
   "outputs": [],
   "source": [
    "import statsmodels.api as sm\n",
    "\n",
    "body_data = mammals['BodyWt']\n",
    "body_data = sm.add_constant(body_data)"
   ]
  },
  {
   "cell_type": "code",
   "execution_count": 118,
   "metadata": {},
   "outputs": [],
   "source": [
    "brain_data = mammals['BrainWt']\n",
    "brain_data = sm.add_constant(brain_data)"
   ]
  },
  {
   "cell_type": "code",
   "execution_count": 119,
   "metadata": {},
   "outputs": [],
   "source": [
    "import statsmodels.api as sm\n",
    "body_data = sm.add_constant(body_data)"
   ]
  },
  {
   "cell_type": "code",
   "execution_count": 120,
   "metadata": {},
   "outputs": [],
   "source": [
    "regression1 = sm.OLS(brain_data, body_data).fit()"
   ]
  },
  {
   "cell_type": "code",
   "execution_count": null,
   "metadata": {},
   "outputs": [],
   "source": []
  }
 ],
 "metadata": {
  "kernelspec": {
   "display_name": "Python 3",
   "language": "python",
   "name": "python3"
  },
  "language_info": {
   "codemirror_mode": {
    "name": "ipython",
    "version": 3
   },
   "file_extension": ".py",
   "mimetype": "text/x-python",
   "name": "python",
   "nbconvert_exporter": "python",
   "pygments_lexer": "ipython3",
   "version": "3.7.6"
  }
 },
 "nbformat": 4,
 "nbformat_minor": 4
}
