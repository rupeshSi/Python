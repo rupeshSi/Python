{
 "cells": [
  {
   "cell_type": "markdown",
   "metadata": {},
   "source": [
    "## Statistics\n",
    "Central Tendencies \n",
    "## Finding Mean"
   ]
  },
  {
   "cell_type": "code",
   "execution_count": 3,
   "metadata": {},
   "outputs": [
    {
     "name": "stdout",
     "output_type": "stream",
     "text": [
      "40.285714285714285\n"
     ]
    }
   ],
   "source": [
    "marks=[45,40,38,42,35,40,42]\n",
    "\n",
    "tot_marks=sum(marks)\n",
    "N=len(marks)\n",
    "\n",
    "avgMarks=tot_marks/N\n",
    "\n",
    "print(avgMarks)"
   ]
  },
  {
   "cell_type": "code",
   "execution_count": 4,
   "metadata": {},
   "outputs": [],
   "source": [
    "#Now create a function called cal_mean(), and pass list of number to calculate Mean\n",
    "\n",
    "def cal_mean(x):\n",
    "    #Adding all number passing through x\n",
    "    sum_num=sum(x)\n",
    "    N=len(x)\n",
    "    avg=sum_num/N\n",
    "    return avg"
   ]
  },
  {
   "cell_type": "code",
   "execution_count": 6,
   "metadata": {},
   "outputs": [
    {
     "name": "stdout",
     "output_type": "stream",
     "text": [
      "The average sales is Rs. 18.571428571428573\n"
     ]
    }
   ],
   "source": [
    "#Weekly sales in Thousands Rs\n",
    "sales=[12,18,20,14,15,24,27]\n",
    "\n",
    "avg_sales=cal_mean(sales)\n",
    "\n",
    "print(\"The average sales is Rs.\", avg_sales)\n"
   ]
  },
  {
   "cell_type": "code",
   "execution_count": 7,
   "metadata": {},
   "outputs": [
    {
     "name": "stdout",
     "output_type": "stream",
     "text": [
      "35.0\n"
     ]
    }
   ],
   "source": [
    "marks=[20,30,40,50]\n",
    "print(cal_mean(marks))"
   ]
  },
  {
   "cell_type": "markdown",
   "metadata": {},
   "source": [
    "## Find Median\n",
    "\n",
    "1. Sort the Data\n",
    "2. Find out number of elements are even or odd\n",
    "    a. Even -- > Average of Mid two values\n",
    "    b. odd-->   Mid +1   value will be median"
   ]
  },
  {
   "cell_type": "code",
   "execution_count": 38,
   "metadata": {},
   "outputs": [],
   "source": [
    "myList=[12,34,12,45,56,45,12,30,12,34,56,75,12,45,45,12,34,34,45,2,1,8,7,6,5,3,100]\n",
    "#myList=[1,2,3,4,5]"
   ]
  },
  {
   "cell_type": "code",
   "execution_count": 35,
   "metadata": {},
   "outputs": [
    {
     "name": "stdout",
     "output_type": "stream",
     "text": [
      "[1, 2, 3, 4, 5]\n",
      "5\n",
      "The median is : 3\n"
     ]
    }
   ],
   "source": [
    "# Step 1.  Sort the data now\n",
    "myList.sort()\n",
    "print(myList)\n",
    "# Step 2: Finding out total number of elements\n",
    "N=len(myList)\n",
    "print(N)\n",
    "\n",
    "#Now check it is even or odd\n",
    "\n",
    "if N%2==0:\n",
    "    #Get the mid two values\n",
    "    m1=(N/2)\n",
    "    m2=(N/2)+1\n",
    "    \n",
    "    #Get index of these values\n",
    "    m1=m1-1\n",
    "    m2=m2-1\n",
    "    \n",
    "    # print(m1, \"  \" , m2)\n",
    "    # Now need to convert m1 and m2 to int from float\n",
    "    \n",
    "    m1=int(m1)\n",
    "    m2=int(m2)\n",
    "    \n",
    "    #print(m1, \"  \" , m2)\n",
    "    \n",
    "    #Now get average of mid two values (Median)\n",
    "    print(myList[m1], \"  \", myList[m2])\n",
    "    median=(myList[m1]+myList[m2])/2\n",
    "    \n",
    "else:\n",
    "    #Take the mid value\n",
    "    m1=int((N/2)+1)-1\n",
    "    median=myList[m1]\n",
    "    \n",
    "print(\"The median is :\", median)"
   ]
  },
  {
   "cell_type": "code",
   "execution_count": 54,
   "metadata": {},
   "outputs": [],
   "source": [
    "def calMedian(myList):\n",
    "    # Step 1.  Sort the data now\n",
    "    myList.sort()\n",
    "    print(myList)\n",
    "    # Step 2: Finding out total number of elements\n",
    "    N=len(myList)\n",
    "    print(N)\n",
    "\n",
    "    #Now check it is even or odd\n",
    "\n",
    "    if N%2==0:\n",
    "        #Get the mid two values\n",
    "        m1=(N/2)\n",
    "        m2=(N/2)+1\n",
    "    \n",
    "        #Get index of these values\n",
    "        m1=m1-1\n",
    "        m2=m2-1\n",
    "    \n",
    "        # print(m1, \"  \" , m2)\n",
    "        # Now need to convert m1 and m2 to int from float\n",
    "    \n",
    "        m1=int(m1)\n",
    "        m2=int(m2)\n",
    "    \n",
    "        #print(m1, \"  \" , m2)\n",
    "    \n",
    "        #Now get average of mid two values (Median)\n",
    "        print(myList[m1], \"  \", myList[m2])\n",
    "        median=(myList[m1]+myList[m2])/2\n",
    "    \n",
    "    else:\n",
    "        #Take the mid value\n",
    "        m1=int((N/2)+1)-1\n",
    "        median=myList[m1]\n",
    "    \n",
    "    #print(\"The median is :\", median)\n",
    "    return median"
   ]
  },
  {
   "cell_type": "code",
   "execution_count": 56,
   "metadata": {},
   "outputs": [
    {
     "name": "stdout",
     "output_type": "stream",
     "text": [
      "[1, 2, 5, 6, 12, 34]\n",
      "6\n",
      "5    6\n",
      "5.5\n"
     ]
    }
   ],
   "source": [
    "y=[12,34,5,6,1,2]\n",
    "\n",
    "print(calMedian(y))"
   ]
  },
  {
   "cell_type": "markdown",
   "metadata": {},
   "source": [
    "## Finding Mode (Most occuring value)"
   ]
  },
  {
   "cell_type": "code",
   "execution_count": 61,
   "metadata": {},
   "outputs": [],
   "source": [
    "modeList=[1,2,3,4,4,4,1,1,5,5,12,1,1,3,3,4,5,12,7,8,9,12,12,5,5,5,1,1]\n",
    "\n",
    "from collections import Counter\n",
    "\n",
    "a=Counter(modeList)"
   ]
  },
  {
   "cell_type": "code",
   "execution_count": 62,
   "metadata": {},
   "outputs": [
    {
     "name": "stdout",
     "output_type": "stream",
     "text": [
      "Counter({1: 7, 5: 6, 4: 4, 12: 4, 3: 3, 2: 1, 7: 1, 8: 1, 9: 1})\n"
     ]
    }
   ],
   "source": [
    "print (a)"
   ]
  },
  {
   "cell_type": "code",
   "execution_count": 67,
   "metadata": {},
   "outputs": [],
   "source": [
    "#Use most_common function to retrun mode\n",
    "#if no argument to most_common(), it will return all values, otherwise\n",
    "#based on how many number you passed, that many modes will be displayed\n",
    "myMode=a.most_common(1)"
   ]
  },
  {
   "cell_type": "code",
   "execution_count": 68,
   "metadata": {},
   "outputs": [
    {
     "name": "stdout",
     "output_type": "stream",
     "text": [
      "[(1, 7)]\n"
     ]
    }
   ],
   "source": [
    "#It displays mode and no. of occurence\n",
    "print(myMode)"
   ]
  },
  {
   "cell_type": "code",
   "execution_count": 71,
   "metadata": {},
   "outputs": [
    {
     "name": "stdout",
     "output_type": "stream",
     "text": [
      "Mode : 1  Frequency 7\n"
     ]
    }
   ],
   "source": [
    "#Now display only mode\n",
    "print(\"Mode :\" ,myMode[0][0],\" Frequency\",myMode[0][1])"
   ]
  },
  {
   "cell_type": "code",
   "execution_count": 88,
   "metadata": {},
   "outputs": [
    {
     "name": "stdout",
     "output_type": "stream",
     "text": [
      "Data \t Frequency\n",
      "---------------------\n",
      "---------------------\n",
      "| 1   |\t     7\n",
      "| 5   |\t     6\n",
      "| 4   |\t     4\n",
      "| 12   |\t     4\n",
      "| 3   |\t     3\n",
      "| 2   |\t     1\n",
      "| 7   |\t     1\n",
      "| 8   |\t     1\n",
      "| 9   |\t     1\n",
      "---------------------\n",
      "N= 9\n"
     ]
    }
   ],
   "source": [
    "#Now Print the Frequency Table\n",
    "fre=a.most_common()\n",
    "j=0\n",
    "i=len(fre)\n",
    "\n",
    "print(\"Data \\t Frequency\")\n",
    "print(\"---------------------\")\n",
    "print(\"---------------------\")\n",
    "while j<i:\n",
    "\n",
    "    print(\"|\",fre[j][0],\"  |\\t    \",fre[j][1])\n",
    "    j+=1\n",
    "print(\"---------------------\")\n",
    "print(\"N=\",i)"
   ]
  },
  {
   "cell_type": "code",
   "execution_count": null,
   "metadata": {},
   "outputs": [],
   "source": []
  }
 ],
 "metadata": {
  "kernelspec": {
   "display_name": "Python 3",
   "language": "python",
   "name": "python3"
  },
  "language_info": {
   "codemirror_mode": {
    "name": "ipython",
    "version": 3
   },
   "file_extension": ".py",
   "mimetype": "text/x-python",
   "name": "python",
   "nbconvert_exporter": "python",
   "pygments_lexer": "ipython3",
   "version": "3.7.6"
  }
 },
 "nbformat": 4,
 "nbformat_minor": 4
}
